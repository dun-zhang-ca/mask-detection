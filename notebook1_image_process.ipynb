{
  "nbformat": 4,
  "nbformat_minor": 0,
  "metadata": {
    "colab": {
      "name": "notebook1_image_process.ipynb",
      "provenance": [],
      "mount_file_id": "1y1VEsDfNGmTPcaSLBrhv2fWdj2ygDzbM",
      "authorship_tag": "ABX9TyPHlDiPyEJ9SxdvJVij3V0J",
      "include_colab_link": true
    },
    "kernelspec": {
      "name": "python3",
      "display_name": "Python 3"
    }
  },
  "cells": [
    {
      "cell_type": "markdown",
      "metadata": {
        "id": "view-in-github",
        "colab_type": "text"
      },
      "source": [
        "<a href=\"https://colab.research.google.com/github/dun-zhang-ca/mask-detection/blob/main/notebook1_image_process.ipynb\" target=\"_parent\"><img src=\"https://colab.research.google.com/assets/colab-badge.svg\" alt=\"Open In Colab\"/></a>"
      ]
    },
    {
      "cell_type": "code",
      "metadata": {
        "id": "B7kEM8JRSPyy"
      },
      "source": [
        "import time\n",
        "import glob\n",
        "import csv\n",
        "\n",
        "import pandas as pd\n",
        "import numpy as np\n",
        "\n",
        "from tensorflow.keras.preprocessing.image import load_img\n",
        "from tensorflow.keras.preprocessing.image import img_to_array\n",
        "from sklearn.model_selection import train_test_split\n",
        "from sklearn.metrics import classification_report\n",
        "from sklearn.neighbors import KNeighborsClassifier\n",
        "\n",
        "\n",
        "import seaborn as sns\n",
        "import matplotlib.pyplot as plt\n"
      ],
      "execution_count": null,
      "outputs": []
    },
    {
      "cell_type": "code",
      "metadata": {
        "colab": {
          "base_uri": "https://localhost:8080/"
        },
        "id": "_Dyxcj0bSUSQ",
        "outputId": "a984ddee-d909-4f12-e37b-1fbbe793f662"
      },
      "source": [
        "!pip install xmlschema"
      ],
      "execution_count": null,
      "outputs": [
        {
          "output_type": "stream",
          "text": [
            "Collecting xmlschema\n",
            "  Downloading xmlschema-1.7.0-py3-none-any.whl (254 kB)\n",
            "\u001b[?25l\r\u001b[K     |█▎                              | 10 kB 24.1 MB/s eta 0:00:01\r\u001b[K     |██▋                             | 20 kB 30.9 MB/s eta 0:00:01\r\u001b[K     |███▉                            | 30 kB 34.8 MB/s eta 0:00:01\r\u001b[K     |█████▏                          | 40 kB 22.2 MB/s eta 0:00:01\r\u001b[K     |██████▍                         | 51 kB 19.5 MB/s eta 0:00:01\r\u001b[K     |███████▊                        | 61 kB 14.5 MB/s eta 0:00:01\r\u001b[K     |█████████                       | 71 kB 15.3 MB/s eta 0:00:01\r\u001b[K     |██████████▎                     | 81 kB 16.8 MB/s eta 0:00:01\r\u001b[K     |███████████▋                    | 92 kB 15.0 MB/s eta 0:00:01\r\u001b[K     |████████████▉                   | 102 kB 16.1 MB/s eta 0:00:01\r\u001b[K     |██████████████▏                 | 112 kB 16.1 MB/s eta 0:00:01\r\u001b[K     |███████████████▍                | 122 kB 16.1 MB/s eta 0:00:01\r\u001b[K     |████████████████▊               | 133 kB 16.1 MB/s eta 0:00:01\r\u001b[K     |██████████████████              | 143 kB 16.1 MB/s eta 0:00:01\r\u001b[K     |███████████████████▎            | 153 kB 16.1 MB/s eta 0:00:01\r\u001b[K     |████████████████████▋           | 163 kB 16.1 MB/s eta 0:00:01\r\u001b[K     |█████████████████████▉          | 174 kB 16.1 MB/s eta 0:00:01\r\u001b[K     |███████████████████████▏        | 184 kB 16.1 MB/s eta 0:00:01\r\u001b[K     |████████████████████████▍       | 194 kB 16.1 MB/s eta 0:00:01\r\u001b[K     |█████████████████████████▊      | 204 kB 16.1 MB/s eta 0:00:01\r\u001b[K     |███████████████████████████     | 215 kB 16.1 MB/s eta 0:00:01\r\u001b[K     |████████████████████████████▎   | 225 kB 16.1 MB/s eta 0:00:01\r\u001b[K     |█████████████████████████████▋  | 235 kB 16.1 MB/s eta 0:00:01\r\u001b[K     |██████████████████████████████▉ | 245 kB 16.1 MB/s eta 0:00:01\r\u001b[K     |████████████████████████████████| 254 kB 16.1 MB/s \n",
            "\u001b[?25hCollecting elementpath<3.0.0,>=2.2.2\n",
            "  Downloading elementpath-2.2.3-py3-none-any.whl (149 kB)\n",
            "\u001b[?25l\r\u001b[K     |██▏                             | 10 kB 37.0 MB/s eta 0:00:01\r\u001b[K     |████▍                           | 20 kB 44.4 MB/s eta 0:00:01\r\u001b[K     |██████▌                         | 30 kB 54.4 MB/s eta 0:00:01\r\u001b[K     |████████▊                       | 40 kB 58.3 MB/s eta 0:00:01\r\u001b[K     |███████████                     | 51 kB 60.5 MB/s eta 0:00:01\r\u001b[K     |█████████████                   | 61 kB 64.3 MB/s eta 0:00:01\r\u001b[K     |███████████████▎                | 71 kB 65.7 MB/s eta 0:00:01\r\u001b[K     |█████████████████▌              | 81 kB 68.2 MB/s eta 0:00:01\r\u001b[K     |███████████████████▋            | 92 kB 70.9 MB/s eta 0:00:01\r\u001b[K     |█████████████████████▉          | 102 kB 72.9 MB/s eta 0:00:01\r\u001b[K     |████████████████████████        | 112 kB 72.9 MB/s eta 0:00:01\r\u001b[K     |██████████████████████████▏     | 122 kB 72.9 MB/s eta 0:00:01\r\u001b[K     |████████████████████████████▍   | 133 kB 72.9 MB/s eta 0:00:01\r\u001b[K     |██████████████████████████████▋ | 143 kB 72.9 MB/s eta 0:00:01\r\u001b[K     |████████████████████████████████| 149 kB 72.9 MB/s \n",
            "\u001b[?25hInstalling collected packages: elementpath, xmlschema\n",
            "Successfully installed elementpath-2.2.3 xmlschema-1.7.0\n"
          ],
          "name": "stdout"
        }
      ]
    },
    {
      "cell_type": "code",
      "metadata": {
        "id": "lu1rvgV-SV7o"
      },
      "source": [
        "import xmlschema"
      ],
      "execution_count": null,
      "outputs": []
    },
    {
      "cell_type": "code",
      "metadata": {
        "id": "ASvf1zy1SZov"
      },
      "source": [
        "DATASET1_PATH='/content/drive/My Drive/DS_DATA_PRJ4/DataSet1/'\n",
        "XMLSCHEMA_FILE=DATASET1_PATH+'/annotations.xsd'\n",
        "DATASET1_FACE_METADATA_CSV=DATASET1_PATH+'/dataset1_images.csv'\n",
        "IMG_HEIGHT =120\n",
        "IMG_WITH = 120"
      ],
      "execution_count": null,
      "outputs": []
    },
    {
      "cell_type": "code",
      "metadata": {
        "id": "yHrzR4cPSkPE"
      },
      "source": [
        "##funtions\n",
        "\n",
        "# Get file list from a folder,file extention default is xml \n",
        "def get_file_list(file_path,file_type='xml'):\n",
        "    return [ f for f in glob.glob(str(file_path)+'*.'+file_type)]\n",
        "\n",
        "# Get file list from a folder,file extention default is xml\n",
        "def get_image_metadata_csv(file_path,csv_file,xsd_file):\n",
        "    xs = xmlschema.XMLSchema(xsd_file)\n",
        "    file = open(csv_file, 'w', newline ='') \n",
        "    csv_header=[\"filename\",\"folder\",\"segmented\",\"depth\",\"height\",\"width\",\n",
        "                \"object_id\",\"xmax\",\"xmin\",\"ymax\",\"ymin\",\"difficult\",\"name\",\n",
        "                \"occluded\",\"truncated\"]\n",
        "    data=[csv_header]\n",
        "\n",
        "    for f in get_file_list(file_path):\n",
        "        imgs=xs.to_dict(f)\n",
        "        imgs_head=[ imgs[\"filename\"],imgs[\"folder\"],imgs[\"segmented\"],\n",
        "                    imgs[\"size\"][\"depth\"],imgs[\"size\"][\"height\"],\n",
        "                    imgs[\"size\"][\"width\"]]\n",
        "        i=0\n",
        "        for o in imgs[\"object\"]:\n",
        "            imgs_fact=imgs_head.copy()\n",
        "            imgs_fact.append(i)\n",
        "            imgs_fact.append(o[\"bndbox\"][\"xmax\"])\n",
        "            imgs_fact.append(o[\"bndbox\"][\"xmin\"])\n",
        "            imgs_fact.append(o[\"bndbox\"][\"ymax\"])\n",
        "            imgs_fact.append(o[\"bndbox\"][\"ymin\"])\n",
        "            imgs_fact.append(o[\"difficult\"])\n",
        "            imgs_fact.append(o[\"name\"])\n",
        "            imgs_fact.append(o[\"occluded\"])\n",
        "            imgs_fact.append(o[\"truncated\"])\n",
        "            data.append(imgs_fact)\n",
        "            i=i+1\n",
        "    with file:     \n",
        "        write = csv.writer(file) \n",
        "        write.writerows(data)\n",
        "\n",
        "def get_label(label):\n",
        "    if label =='with_mask':\n",
        "        return 2\n",
        "    elif label == 'without_mask':\n",
        "        return 0\n",
        "    else:\n",
        "        return 1\n",
        "def get_face_mask_date(image_path, coords):\n",
        "    image_obj = load_img(image_path)\n",
        "    cropped_image = image_obj.crop(coords)\n",
        "    newsize = (IMG_HEIGHT, IMG_WITH) \n",
        "    cropped_image=cropped_image.resize(newsize)    \n",
        "#     image_array = img_to_array(cropped_image)\n",
        "    return cropped_image        "
      ],
      "execution_count": null,
      "outputs": []
    },
    {
      "cell_type": "code",
      "metadata": {
        "id": "BlVuac6SSpcx"
      },
      "source": [
        "get_image_metadata_csv(DATASET1_PATH+'/annotations/',\n",
        "                       DATASET1_FACE_METADATA_CSV,\n",
        "                       XMLSCHEMA_FILE)"
      ],
      "execution_count": null,
      "outputs": []
    },
    {
      "cell_type": "code",
      "metadata": {
        "id": "EaxQNDxiS5RQ"
      },
      "source": [
        "images_metadata=pd.read_csv(DATASET1_FACE_METADATA_CSV)\n",
        "\n",
        "data = []\n",
        "labels = []\n",
        "for index, row  in images_metadata.iterrows():\n",
        "    label = get_label(row['name'])\n",
        "    image_file=DATASET1_PATH+row['folder']+'/'+row['filename']\n",
        "    image=get_face_mask_date(image_file,(row['xmin'],row['ymin'],row['xmax'],\n",
        "                                         row['ymax']))\n",
        "    image = img_to_array(image)\n",
        "    # image = preprocess_input(image)\n",
        "    data.append(image)\n",
        "    labels.append(label)"
      ],
      "execution_count": null,
      "outputs": []
    },
    {
      "cell_type": "code",
      "metadata": {
        "id": "OJLrn4EkS543"
      },
      "source": [
        "data = np.array(data, dtype=\"float32\")\n",
        "labels = np.array(labels)\n",
        "\n",
        "(trainX, testX, trainY, testY) = train_test_split(data, labels,\n",
        "                                                  test_size=0.20, \n",
        "                                                  stratify=labels, \n",
        "                                                  random_state=42)"
      ],
      "execution_count": null,
      "outputs": []
    },
    {
      "cell_type": "code",
      "metadata": {
        "id": "_lmnX7UKS9xn"
      },
      "source": [
        "Xtr_new = trainX.reshape(trainX.shape[0], IMG_HEIGHT * IMG_WITH * 3) \n",
        "Xte_new = testX.reshape(testX.shape[0], IMG_HEIGHT* IMG_WITH*3)"
      ],
      "execution_count": null,
      "outputs": []
    },
    {
      "cell_type": "code",
      "metadata": {
        "id": "-46yznSwTAEg"
      },
      "source": [
        "model = KNeighborsClassifier()\n",
        "model.fit(Xtr_new,trainY)\n",
        "ypre = model.predict(Xte_new)"
      ],
      "execution_count": null,
      "outputs": []
    },
    {
      "cell_type": "code",
      "metadata": {
        "colab": {
          "base_uri": "https://localhost:8080/",
          "height": 486
        },
        "id": "-UFf2bXyTCvn",
        "outputId": "541433c2-767a-437b-ad39-695b608e74af"
      },
      "source": [
        "print(classification_report(testY, ypre))\n",
        "\n",
        "target_names = ['without_mask','mask_weared_incorrect','with_mask']\n",
        "\n",
        "clf_report = classification_report(testY,\n",
        "                                   ypre,\n",
        "                                   target_names=target_names,\n",
        "                                   output_dict=True)\n",
        "sns.heatmap(pd.DataFrame(clf_report).iloc[:-1, :].T, annot=True)\n",
        "plt.show()"
      ],
      "execution_count": null,
      "outputs": [
        {
          "output_type": "stream",
          "text": [
            "/usr/local/lib/python3.7/dist-packages/sklearn/metrics/_classification.py:1272: UndefinedMetricWarning: Precision and F-score are ill-defined and being set to 0.0 in labels with no predicted samples. Use `zero_division` parameter to control this behavior.\n",
            "  _warn_prf(average, modifier, msg_start, len(result))\n"
          ],
          "name": "stderr"
        },
        {
          "output_type": "stream",
          "text": [
            "              precision    recall  f1-score   support\n",
            "\n",
            "           0       0.75      0.85      0.80       143\n",
            "           1       0.00      0.00      0.00        25\n",
            "           2       0.94      0.95      0.94       647\n",
            "\n",
            "    accuracy                           0.90       815\n",
            "   macro avg       0.56      0.60      0.58       815\n",
            "weighted avg       0.88      0.90      0.89       815\n",
            "\n"
          ],
          "name": "stdout"
        },
        {
          "output_type": "display_data",
          "data": {
            "image/png": "[encoded data removed]",
            "text/plain": [
              "<Figure size 432x288 with 2 Axes>"
            ]
          },
          "metadata": {
            "needs_background": "light"
          }
        }
      ]
    }
  ]
}